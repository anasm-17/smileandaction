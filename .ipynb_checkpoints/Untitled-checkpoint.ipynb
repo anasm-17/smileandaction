{
 "cells": [
  {
   "cell_type": "code",
   "execution_count": 1,
   "metadata": {},
   "outputs": [
    {
     "name": "stderr",
     "output_type": "stream",
     "text": [
      "Using TensorFlow backend.\n"
     ]
    }
   ],
   "source": [
    "import cv2\n",
    "import numpy as np\n",
    "from keras.models import load_model\n",
    "from statistics import mode\n",
    "from utils.datasets import get_labels\n",
    "from utils.inference import detect_faces\n",
    "from utils.inference import draw_text\n",
    "from utils.inference import draw_bounding_box\n",
    "from utils.inference import apply_offsets\n",
    "from utils.inference import load_detection_model\n",
    "from utils.preprocessor import preprocess_input"
   ]
  },
  {
   "cell_type": "code",
   "execution_count": 2,
   "metadata": {},
   "outputs": [],
   "source": [
    "USE_WEBCAM = False # If false, loads video file source"
   ]
  },
  {
   "cell_type": "code",
   "execution_count": 3,
   "metadata": {},
   "outputs": [],
   "source": [
    "# parameters for loading data and images\n",
    "emotion_model_path = 'models/emotion_model.hdf5'\n",
    "emotion_labels = get_labels('fer2013')"
   ]
  },
  {
   "cell_type": "code",
   "execution_count": 4,
   "metadata": {},
   "outputs": [],
   "source": [
    "# hyper-parameters for bounding boxes shape\n",
    "frame_window = 10\n",
    "emotion_offsets = (20, 40)"
   ]
  },
  {
   "cell_type": "code",
   "execution_count": 5,
   "metadata": {},
   "outputs": [
    {
     "name": "stderr",
     "output_type": "stream",
     "text": [
      "D:\\Anaconda\\Anaconda3\\envs\\DS_1\\lib\\site-packages\\keras\\engine\\saving.py:327: UserWarning: Error in loading the saved optimizer state. As a result, your model is starting with a freshly initialized optimizer.\n",
      "  warnings.warn('Error in loading the saved optimizer '\n"
     ]
    }
   ],
   "source": [
    "# loading models\n",
    "face_cascade = cv2.CascadeClassifier('models/haarcascade_frontalface_default.xml')\n",
    "emotion_classifier = load_model(emotion_model_path)"
   ]
  },
  {
   "cell_type": "code",
   "execution_count": 6,
   "metadata": {},
   "outputs": [],
   "source": [
    "# getting input model shapes for inference\n",
    "emotion_target_size = emotion_classifier.input_shape[1:3]"
   ]
  },
  {
   "cell_type": "code",
   "execution_count": 7,
   "metadata": {},
   "outputs": [],
   "source": [
    "# starting lists for calculating modes\n",
    "emotion_window = []"
   ]
  },
  {
   "cell_type": "code",
   "execution_count": 8,
   "metadata": {},
   "outputs": [],
   "source": [
    "import win32print\n",
    "import win32ui\n",
    "from PIL import Image, ImageWin\n",
    "\n",
    "#\n",
    "# Constants for GetDeviceCaps\n",
    "#\n",
    "#\n",
    "# HORZRES / VERTRES = printable area\n",
    "#\n",
    "HORZRES = 8\n",
    "VERTRES = 10\n",
    "#\n",
    "# LOGPIXELS = dots per inch\n",
    "#\n",
    "LOGPIXELSX = 88\n",
    "LOGPIXELSY = 90\n",
    "#\n",
    "# PHYSICALWIDTH/HEIGHT = total area\n",
    "#\n",
    "PHYSICALWIDTH = 110\n",
    "PHYSICALHEIGHT = 111\n",
    "#\n",
    "# PHYSICALOFFSETX/Y = left / top margin\n",
    "#\n",
    "PHYSICALOFFSETX = 112\n",
    "PHYSICALOFFSETY = 113\n",
    "\n",
    "printer_name = win32print.GetDefaultPrinter ()\n",
    "\n",
    "hDC = win32ui.CreateDC ()\n",
    "hDC.CreatePrinterDC (printer_name)\n",
    "printable_area = hDC.GetDeviceCaps (HORZRES), hDC.GetDeviceCaps (VERTRES)\n",
    "printer_size = hDC.GetDeviceCaps (PHYSICALWIDTH), hDC.GetDeviceCaps (PHYSICALHEIGHT)\n",
    "printer_margins = hDC.GetDeviceCaps (PHYSICALOFFSETX), hDC.GetDeviceCaps (PHYSICALOFFSETY)"
   ]
  },
  {
   "cell_type": "code",
   "execution_count": 9,
   "metadata": {},
   "outputs": [],
   "source": [
    "def print_pic(file_name):\n",
    "    bmp = Image.open (file_name)\n",
    "    if bmp.size[0] > bmp.size[1]:\n",
    "      bmp = bmp.rotate (90)\n",
    "\n",
    "    ratios = [1.0 * printable_area[0] / bmp.size[0], 1.0 * printable_area[1] / bmp.size[1]]\n",
    "    scale = min (ratios)\n",
    "\n",
    "    #\n",
    "    # Start the print job, and draw the bitmap to\n",
    "    #  the printer device at the scaled size.\n",
    "    #\n",
    "    hDC.StartDoc (file_name)\n",
    "    hDC.StartPage ()\n",
    "\n",
    "    dib = ImageWin.Dib (bmp)\n",
    "    scaled_width, scaled_height = [int (scale * i) for i in bmp.size]\n",
    "    x1 = int ((printer_size[0] - scaled_width) / 2)\n",
    "    y1 = int ((printer_size[1] - scaled_height) / 2)\n",
    "    x2 = x1 + scaled_width\n",
    "    y2 = y1 + scaled_height\n",
    "    dib.draw (hDC.GetHandleOutput (), (x1, y1, x2, y2))\n",
    "\n",
    "    hDC.EndPage ()\n",
    "    hDC.EndDoc ()\n",
    "    hDC.DeleteDC ()"
   ]
  },
  {
   "cell_type": "code",
   "execution_count": 10,
   "metadata": {},
   "outputs": [
    {
     "data": {
      "text/plain": [
       "'D:\\\\GitHub\\\\Emotion_Detection\\\\Emotion'"
      ]
     },
     "execution_count": 10,
     "metadata": {},
     "output_type": "execute_result"
    }
   ],
   "source": [
    "import time\n",
    "import os\n",
    "cwd = os.getcwd()\n",
    "cwd"
   ]
  },
  {
   "cell_type": "code",
   "execution_count": 11,
   "metadata": {
    "scrolled": true
   },
   "outputs": [
    {
     "ename": "NameError",
     "evalue": "name 'exception' is not defined",
     "output_type": "error",
     "traceback": [
      "\u001b[1;31m---------------------------------------------------------------------------\u001b[0m",
      "\u001b[1;31mNameError\u001b[0m                                 Traceback (most recent call last)",
      "\u001b[1;32m<ipython-input-11-09f459d08e1f>\u001b[0m in \u001b[0;36m<module>\u001b[1;34m()\u001b[0m\n\u001b[0;32m     69\u001b[0m     \u001b[1;32mtry\u001b[0m\u001b[1;33m:\u001b[0m\u001b[1;33m\u001b[0m\u001b[0m\n\u001b[1;32m---> 70\u001b[1;33m         \u001b[1;32mif\u001b[0m \u001b[1;33m(\u001b[0m\u001b[0memotion_text\u001b[0m \u001b[1;33m==\u001b[0m\u001b[1;34m'happy'\u001b[0m\u001b[1;33m)\u001b[0m\u001b[1;33m:\u001b[0m\u001b[1;33m\u001b[0m\u001b[0m\n\u001b[0m\u001b[0;32m     71\u001b[0m             \u001b[0mt1\u001b[0m \u001b[1;33m=\u001b[0m \u001b[0mtime\u001b[0m\u001b[1;33m.\u001b[0m\u001b[0mtime\u001b[0m\u001b[1;33m(\u001b[0m\u001b[1;33m)\u001b[0m\u001b[1;33m\u001b[0m\u001b[0m\n",
      "\u001b[1;31mNameError\u001b[0m: name 'emotion_text' is not defined",
      "\nDuring handling of the above exception, another exception occurred:\n",
      "\u001b[1;31mNameError\u001b[0m                                 Traceback (most recent call last)",
      "\u001b[1;32m<ipython-input-11-09f459d08e1f>\u001b[0m in \u001b[0;36m<module>\u001b[1;34m()\u001b[0m\n\u001b[0;32m     81\u001b[0m         \u001b[1;32melse\u001b[0m\u001b[1;33m:\u001b[0m\u001b[1;33m\u001b[0m\u001b[0m\n\u001b[0;32m     82\u001b[0m             \u001b[0mt0\u001b[0m \u001b[1;33m=\u001b[0m \u001b[0mtime\u001b[0m\u001b[1;33m.\u001b[0m\u001b[0mtime\u001b[0m\u001b[1;33m(\u001b[0m\u001b[1;33m)\u001b[0m\u001b[1;33m\u001b[0m\u001b[0m\n\u001b[1;32m---> 83\u001b[1;33m     \u001b[1;32mexcept\u001b[0m \u001b[0mexception\u001b[0m \u001b[1;32mas\u001b[0m \u001b[0me\u001b[0m\u001b[1;33m:\u001b[0m\u001b[1;33m\u001b[0m\u001b[0m\n\u001b[0m\u001b[0;32m     84\u001b[0m         \u001b[1;32mcontinue\u001b[0m\u001b[1;33m\u001b[0m\u001b[0m\n\u001b[0;32m     85\u001b[0m \u001b[1;33m\u001b[0m\u001b[0m\n",
      "\u001b[1;31mNameError\u001b[0m: name 'exception' is not defined"
     ]
    }
   ],
   "source": [
    "# Select video or webcam feed\n",
    "cap = None\n",
    "if (USE_WEBCAM == True):\n",
    "    cap = cv2.VideoCapture(0) # Webcam source\n",
    "else:\n",
    "    cap = cv2.VideoCapture('demo/Happy_Face.mp4') # Video file source\n",
    "    cv2.namedWindow('window_frame')\n",
    "\n",
    "t0=time.time()\n",
    "t1=time.time()\n",
    "print_count=0\n",
    "while cap.isOpened(): # True:\n",
    "    ret, bgr_image = cap.read()\n",
    "\n",
    "    #bgr_image = video_capture.read()[1]\n",
    "\n",
    "    gray_image = cv2.cvtColor(bgr_image, cv2.COLOR_BGR2GRAY)\n",
    "    rgb_image = cv2.cvtColor(bgr_image, cv2.COLOR_BGR2RGB)\n",
    "\n",
    "    faces = face_cascade.detectMultiScale(gray_image, scaleFactor=1.1, minNeighbors=5,\n",
    "\t\t\tminSize=(30, 30), flags=cv2.CASCADE_SCALE_IMAGE)\n",
    "\n",
    "    for face_coordinates in faces:\n",
    "\n",
    "        x1, x2, y1, y2 = apply_offsets(face_coordinates, emotion_offsets)\n",
    "        gray_face = gray_image[y1:y2, x1:x2]\n",
    "        try:\n",
    "            gray_face = cv2.resize(gray_face, (emotion_target_size))\n",
    "        except:\n",
    "            continue\n",
    "\n",
    "        gray_face = preprocess_input(gray_face, True)\n",
    "        gray_face = np.expand_dims(gray_face, 0)\n",
    "        gray_face = np.expand_dims(gray_face, -1)\n",
    "        emotion_prediction = emotion_classifier.predict(gray_face)\n",
    "        emotion_probability = np.max(emotion_prediction)\n",
    "        emotion_label_arg = np.argmax(emotion_prediction)\n",
    "        emotion_text = emotion_labels[emotion_label_arg]\n",
    "        emotion_window.append(emotion_text)\n",
    "\n",
    "        if len(emotion_window) > frame_window:\n",
    "            emotion_window.pop(0)\n",
    "        try:\n",
    "            emotion_mode = mode(emotion_window)\n",
    "        except:\n",
    "            continue\n",
    "\n",
    "        if emotion_text == 'angry':\n",
    "            color = emotion_probability * np.asarray((255, 0, 0))\n",
    "        elif emotion_text == 'sad':\n",
    "            color = emotion_probability * np.asarray((0, 0, 255))\n",
    "        elif emotion_text == 'happy':\n",
    "            color = emotion_probability * np.asarray((255, 255, 0))\n",
    "        elif emotion_text == 'surprise':\n",
    "            color = emotion_probability * np.asarray((0, 255, 255))\n",
    "        else:\n",
    "            color = emotion_probability * np.asarray((0, 255, 0))\n",
    "\n",
    "        color = color.astype(int)\n",
    "        color = color.tolist()\n",
    "        e_p = str(round(emotion_probability*100,2))\n",
    "        draw_bounding_box(face_coordinates, rgb_image, color)\n",
    "        draw_text(face_coordinates, rgb_image, emotion_mode+\" \"+e_p+\"%\",\n",
    "                  color, 0, -45, 0.5, 1)\n",
    "\n",
    "\n",
    "    bgr_image = cv2.cvtColor(rgb_image, cv2.COLOR_RGB2BGR)\n",
    "    cv2.imshow('window_frame', bgr_image)\n",
    "    try:\n",
    "        if (emotion_text =='happy'):\n",
    "            t1 = time.time()\n",
    "            if (t1-t0 >= 5):\n",
    "                print(\"5 seconds smile\") \n",
    "                print_count+=1\n",
    "                t0 = time.time()\n",
    "                t1 = time.time()\n",
    "                cv2.imwrite('dump/image{}'.format(print_count)+'.jpg',bgr_image)\n",
    "                #os.startfile(cwd+'\\\\dump\\\\image{}'.format(print_count)+'.jpg', \"print\")\n",
    "                print_pic('dump/image{}'.format(print_count)+'.jpg')\n",
    "\n",
    "        else:\n",
    "            t0 = time.time()\n",
    "    except Exception as e:\n",
    "        continue\n",
    "        \n",
    "    if cv2.waitKey(1) & 0xFF == ord('q'):\n",
    "        break\n",
    "\n",
    "cap.release()\n",
    "cv2.destroyAllWindows()\n"
   ]
  },
  {
   "cell_type": "code",
   "execution_count": null,
   "metadata": {},
   "outputs": [],
   "source": [
    "# import win32print\n",
    "# import win32ui\n",
    "# from PIL import Image, ImageWin\n",
    "\n",
    "# #\n",
    "# # Constants for GetDeviceCaps\n",
    "# #\n",
    "# #\n",
    "# # HORZRES / VERTRES = printable area\n",
    "# #\n",
    "# HORZRES = 8\n",
    "# VERTRES = 10\n",
    "# #\n",
    "# # LOGPIXELS = dots per inch\n",
    "# #\n",
    "# LOGPIXELSX = 88\n",
    "# LOGPIXELSY = 90\n",
    "# #\n",
    "# # PHYSICALWIDTH/HEIGHT = total area\n",
    "# #\n",
    "# PHYSICALWIDTH = 110\n",
    "# PHYSICALHEIGHT = 111\n",
    "# #\n",
    "# # PHYSICALOFFSETX/Y = left / top margin\n",
    "# #\n",
    "# PHYSICALOFFSETX = 112\n",
    "# PHYSICALOFFSETY = 113\n",
    "\n",
    "# printer_name = win32print.GetDefaultPrinter ()\n",
    "# file_name = \"dump/image1.jpg\"\n",
    "\n",
    "# #\n",
    "# # You can only write a Device-independent bitmap\n",
    "# #  directly to a Windows device context; therefore\n",
    "# #  we need (for ease) to use the Python Imaging\n",
    "# #  Library to manipulate the image.\n",
    "# #\n",
    "# # Create a device context from a named printer\n",
    "# #  and assess the printable size of the paper.\n",
    "# #\n",
    "# hDC = win32ui.CreateDC ()\n",
    "# hDC.CreatePrinterDC (printer_name)\n",
    "# printable_area = hDC.GetDeviceCaps (HORZRES), hDC.GetDeviceCaps (VERTRES)\n",
    "# printer_size = hDC.GetDeviceCaps (PHYSICALWIDTH), hDC.GetDeviceCaps (PHYSICALHEIGHT)\n",
    "# printer_margins = hDC.GetDeviceCaps (PHYSICALOFFSETX), hDC.GetDeviceCaps (PHYSICALOFFSETY)\n",
    "\n",
    "# #\n",
    "# # Open the image, rotate it if it's wider than\n",
    "# #  it is high, and work out how much to multiply\n",
    "# #  each pixel by to get it as big as possible on\n",
    "# #  the page without distorting.\n",
    "# #\n",
    "# bmp = Image.open (file_name)\n",
    "# if bmp.size[0] > bmp.size[1]:\n",
    "#   bmp = bmp.rotate (90)\n",
    "\n",
    "# ratios = [1.0 * printable_area[0] / bmp.size[0], 1.0 * printable_area[1] / bmp.size[1]]\n",
    "# scale = min (ratios)\n",
    "\n",
    "# #\n",
    "# # Start the print job, and draw the bitmap to\n",
    "# #  the printer device at the scaled size.\n",
    "# #\n",
    "# hDC.StartDoc (file_name)\n",
    "# hDC.StartPage ()\n",
    "\n",
    "# dib = ImageWin.Dib (bmp)\n",
    "# scaled_width, scaled_height = [int (scale * i) for i in bmp.size]\n",
    "# x1 = int ((printer_size[0] - scaled_width) / 2)\n",
    "# y1 = int ((printer_size[1] - scaled_height) / 2)\n",
    "# x2 = x1 + scaled_width\n",
    "# y2 = y1 + scaled_height\n",
    "# dib.draw (hDC.GetHandleOutput (), (x1, y1, x2, y2))\n",
    "\n",
    "# hDC.EndPage ()\n",
    "# hDC.EndDoc ()\n",
    "# hDC.DeleteDC ()"
   ]
  },
  {
   "cell_type": "code",
   "execution_count": null,
   "metadata": {},
   "outputs": [],
   "source": []
  }
 ],
 "metadata": {
  "kernelspec": {
   "display_name": "Python 3",
   "language": "python",
   "name": "python3"
  },
  "language_info": {
   "codemirror_mode": {
    "name": "ipython",
    "version": 3
   },
   "file_extension": ".py",
   "mimetype": "text/x-python",
   "name": "python",
   "nbconvert_exporter": "python",
   "pygments_lexer": "ipython3",
   "version": "3.6.6"
  }
 },
 "nbformat": 4,
 "nbformat_minor": 2
}
